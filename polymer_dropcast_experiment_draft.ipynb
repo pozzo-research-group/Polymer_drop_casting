{
 "cells": [
  {
   "attachments": {},
   "cell_type": "markdown",
   "id": "53e1ce82",
   "metadata": {},
   "source": [
    "# Polymer dropcast experiment setup\n",
    "\n"
   ]
  },
  {
   "cell_type": "markdown",
   "id": "6179f1a2",
   "metadata": {},
   "source": [
    "#### Necessary Imports \n",
    "\n",
    "As usual, let's start by importing the necessary packages we will need to run our demo.\n",
    "\n",
    "In this case, we will also set up our matplotlib- the package we will use to visualize the beautiful art that our Rob Ross will generate as an external window."
   ]
  },
  {
   "cell_type": "code",
   "execution_count": 1,
   "id": "7b24657e-16d1-4e88-b56e-36b13f775d13",
   "metadata": {},
   "outputs": [],
   "source": [
    "%load_ext autoreload\n",
    "\n",
    "%autoreload 2"
   ]
  },
  {
   "cell_type": "code",
   "execution_count": 2,
   "id": "938fbdb1",
   "metadata": {},
   "outputs": [],
   "source": [
    "# ----------- Science Jubilee -------------\n",
    "from science_jubilee import Machine as Jub\n",
    "from science_jubilee.tools import Pipette\n",
    "\n",
    "# ------ Data visualization outside of the notebook ------\n",
    "import matplotlib\n",
    "import pandas as pd"
   ]
  },
  {
   "cell_type": "markdown",
   "id": "1c6d3f82",
   "metadata": {},
   "source": [
    "### Jubilee platfform connection and set-up"
   ]
  },
  {
   "cell_type": "code",
   "execution_count": 3,
   "id": "18476b27",
   "metadata": {
    "scrolled": true
   },
   "outputs": [],
   "source": [
    "jubilee = Jub.Machine(address='192.168.1.2', simulated = False) "
   ]
  },
  {
   "cell_type": "markdown",
   "id": "cb6260ae",
   "metadata": {},
   "source": [
    "Before we can set up the `deck` of our `Jubilee` with all our labware, we will need to *home* **all** its axis.\n",
    "\n",
    "> Attention -- !!! **BEFORE** !!! running the next cell, make sure that NO labware is loaded onto the deck or the Tool Changer will crush into them. "
   ]
  },
  {
   "cell_type": "code",
   "execution_count": 4,
   "id": "ed7d230f",
   "metadata": {
    "scrolled": true
   },
   "outputs": [],
   "source": [
    "jubilee.home_all()"
   ]
  },
  {
   "cell_type": "markdown",
   "id": "986929fb",
   "metadata": {},
   "source": [
    "### Deck preparation and labware definition \n",
    "Awesome, now that we have our machine all ready to go, we will need to load all the labware onto it both *physically* and *digitally* . \n",
    "\n",
    "* Physically: place the desired/required labware for the Demo onto the deck of your Jubilee\n",
    "* Digitally: first, we need to define our `deck`; then define and load the `labware` we want to use and indicate on which `slot` each of them was assigned to"
   ]
  },
  {
   "cell_type": "code",
   "execution_count": 5,
   "id": "97e90bef",
   "metadata": {},
   "outputs": [],
   "source": [
    "# ---------------- Deck -------------------\n",
    "deck = jubilee.load_deck('lab_automation_deck.json')"
   ]
  },
  {
   "cell_type": "markdown",
   "id": "15cf3028",
   "metadata": {},
   "source": [
    "To run this *autonoous* color matching demo, we will need at least four types of labware:\n",
    "\n",
    "* A **Tiprack** that is suitable for the pipette you are using to transfer your liquids\n",
    "* A **Sample Labware** that will be used to collect the colors that your Rob Ross will make \n",
    "* A **Stock Labware** that will host the stock colors that your Rob Ross can mix together\n",
    "* A **trash** to collect the used tips"
   ]
  },
  {
   "cell_type": "code",
   "execution_count": 6,
   "id": "517eb33e-dfae-4bff-9dad-3cdaa114f708",
   "metadata": {},
   "outputs": [
    {
     "data": {
      "text/plain": [
       "10"
      ]
     },
     "execution_count": 6,
     "metadata": {},
     "output_type": "execute_result"
    }
   ],
   "source": [
    "deck.safe_z"
   ]
  },
  {
   "cell_type": "code",
   "execution_count": 7,
   "id": "3057dac8",
   "metadata": {},
   "outputs": [
    {
     "name": "stdout",
     "output_type": "stream",
     "text": [
      "New manual offset applied to opentrons_96_tiprack_300ul\n"
     ]
    }
   ],
   "source": [
    "# -------------- Labware ------------------\n",
    "tiprack = jubilee.load_labware('opentrons_96_tiprack_300ul.json', 0)\n",
    "tiprack.load_manualOffset()\n",
    "sample_wellplate = jubilee.load_labware('fisherbrand_96_wellplate_360ul.json', 2) #Replace this with custom labware for samples\n",
    "#samples.load_manualOffset()\n",
    "stocks = jubilee.load_labware('20mlscintillation_12_wellplate_18000ul.json', 3)\n",
    "trash = jubilee.load_labware('agilent_1_reservoir_290ml.json', 1)"
   ]
  },
  {
   "cell_type": "code",
   "execution_count": 8,
   "id": "14501c58-6d6b-4e01-abe4-805869ea855e",
   "metadata": {},
   "outputs": [
    {
     "name": "stdout",
     "output_type": "stream",
     "text": [
      "New manual offset applied to opentrons_96_tiprack_300ul\n",
      "New manual offset applied to 20mlscintillation_12_wellplate_18000ul\n"
     ]
    }
   ],
   "source": [
    "#UL = (26.5, 174.0)\n",
    "#UR = (126.6, 173.4)\n",
    "#BR = (126.5, 110.9)\n",
    "#samples.manual_offset((UL, UR, BR))\n",
    "\n",
    "UL = (29.4, 82.1)\n",
    "UR = (127, 82.1)\n",
    "BR = (127, 19.2)\n",
    "tiprack.manual_offset((UL, UR, BR))\n",
    "\n",
    "\n",
    "UL = (174.5, 171.0)\n",
    "UR = (260.5, 170.0)\n",
    "BR = (260.5, 114.0)\n",
    "stocks.manual_offset((UL, UR, BR))"
   ]
  },
  {
   "cell_type": "markdown",
   "id": "1c08909c",
   "metadata": {},
   "source": [
    "You can notice that the *tiprack* and the *samples* labware have a `manualOffset()` applied to them. This is to ensure that the labware coordinates are as precise as we can. The manual offset is **labware** and **slot** dependent, so you will need to run it prior to do so. You can find more information on how to run this in the `Science Jubilee` repository/documentation"
   ]
  },
  {
   "cell_type": "markdown",
   "id": "0a923e9c",
   "metadata": {},
   "source": [
    "This next "
   ]
  },
  {
   "cell_type": "code",
   "execution_count": 9,
   "id": "544e3693",
   "metadata": {},
   "outputs": [],
   "source": [
    "# ------------- Stocks ------------\n",
    "stock_1 = stocks[0].bottom(+5)\n",
    "stock_2 = stocks[1].bottom(+5)\n",
    "\n"
   ]
  },
  {
   "cell_type": "code",
   "execution_count": 10,
   "id": "419a88b6-4125-40bc-b411-2e5d194c5ee1",
   "metadata": {},
   "outputs": [
    {
     "data": {
      "text/plain": [
       "Location(point=(174.5, 171.0, 12.5), labware=Well A1 form 20mLscintillation 12 Well Plate 18000 µL on slot 3)"
      ]
     },
     "execution_count": 10,
     "metadata": {},
     "output_type": "execute_result"
    }
   ],
   "source": [
    "stock_1"
   ]
  },
  {
   "cell_type": "code",
   "execution_count": 11,
   "id": "744d96ff-3242-4de8-8024-ff9bd1a3d0c3",
   "metadata": {},
   "outputs": [
    {
     "data": {
      "text/plain": [
       "{'0': ((29.4, 82.1), (127, 82.1), (127, 19.2))}"
      ]
     },
     "execution_count": 11,
     "metadata": {},
     "output_type": "execute_result"
    }
   ],
   "source": [
    "tiprack.manualOffset"
   ]
  },
  {
   "cell_type": "markdown",
   "id": "1c07011c",
   "metadata": {},
   "source": [
    "### Tool import and set up\n",
    "\n",
    "Once again we will need to load all our tools onto our machine both *physically* and *digitally* . \n",
    "\n",
    "To learn how to load the tools *physically*, you can find more information and resources in the `Science_Jubilee` [documentation](https://machineagency.github.io/science_jubilee/building/building_tools.html#building-tools)\n",
    "\n",
    "Each tool will at minimum require a `tool_index`, an integer, and a `tool_name`. These should be the same as the ones defined in the machine's `config.g` file. \n",
    "Some tools will also required further information. You can defined these individually or in a config file for easier tool load. "
   ]
  },
  {
   "cell_type": "markdown",
   "id": "363b8f5d",
   "metadata": {},
   "source": [
    "**Pipette Tool**"
   ]
  },
  {
   "cell_type": "code",
   "execution_count": 12,
   "id": "ed0510c0",
   "metadata": {},
   "outputs": [],
   "source": [
    "P300 = Pipette.Pipette.from_config(1, 'Pipette', 'P300_config.json')\n",
    "jubilee.load_tool(P300)"
   ]
  },
  {
   "cell_type": "markdown",
   "id": "ff277a9e",
   "metadata": {},
   "source": [
    "Even though you will be able to use te pipette after these two single lines, you can also associate its `tiprack` to the tool, as well as define a `trash` location. This will just make the code more clean."
   ]
  },
  {
   "cell_type": "code",
   "execution_count": 13,
   "id": "7bbeb5e9",
   "metadata": {},
   "outputs": [],
   "source": [
    "P300.add_tiprack(tiprack)\n",
    "P300.trash = trash[0]"
   ]
  },
  {
   "cell_type": "markdown",
   "id": "05b5dee7-c0fd-4889-a607-cf576fb09592",
   "metadata": {},
   "source": [
    "## Load experiment definition files"
   ]
  },
  {
   "cell_type": "code",
   "execution_count": 14,
   "id": "96ee6f62-d9fe-4dbe-8864-9734e122184f",
   "metadata": {},
   "outputs": [],
   "source": [
    "experiment_def = pd.read_csv('experiment_definition_draft.csv')"
   ]
  },
  {
   "cell_type": "code",
   "execution_count": 15,
   "id": "0984b593-f66c-4f25-b32d-ccc8b777e215",
   "metadata": {},
   "outputs": [
    {
     "data": {
      "text/html": [
       "<div>\n",
       "<style scoped>\n",
       "    .dataframe tbody tr th:only-of-type {\n",
       "        vertical-align: middle;\n",
       "    }\n",
       "\n",
       "    .dataframe tbody tr th {\n",
       "        vertical-align: top;\n",
       "    }\n",
       "\n",
       "    .dataframe thead th {\n",
       "        text-align: right;\n",
       "    }\n",
       "</style>\n",
       "<table border=\"1\" class=\"dataframe\">\n",
       "  <thead>\n",
       "    <tr style=\"text-align: right;\">\n",
       "      <th></th>\n",
       "      <th>Sample UUID</th>\n",
       "      <th>Sample Name</th>\n",
       "      <th>Stock Solution UUID</th>\n",
       "      <th>Volume dispensed [uL]</th>\n",
       "      <th>Dispense offset from center [X, Y] [mm]</th>\n",
       "      <th>Dispense rate [uL/S]</th>\n",
       "    </tr>\n",
       "  </thead>\n",
       "  <tbody>\n",
       "    <tr>\n",
       "      <th>0</th>\n",
       "      <td>1</td>\n",
       "      <td>test_sample</td>\n",
       "      <td>1234</td>\n",
       "      <td>200</td>\n",
       "      <td>(2,2)</td>\n",
       "      <td>20</td>\n",
       "    </tr>\n",
       "  </tbody>\n",
       "</table>\n",
       "</div>"
      ],
      "text/plain": [
       "   Sample UUID  Sample Name  Stock Solution UUID  Volume dispensed [uL]  \\\n",
       "0            1  test_sample                 1234                    200   \n",
       "\n",
       "  Dispense offset from center [X, Y] [mm]   Dispense rate [uL/S]  \n",
       "0                                   (2,2)                     20  "
      ]
     },
     "execution_count": 15,
     "metadata": {},
     "output_type": "execute_result"
    }
   ],
   "source": [
    "experiment_def"
   ]
  },
  {
   "cell_type": "code",
   "execution_count": 16,
   "id": "cad13cb6-0e99-49e7-9e7b-368657247fdf",
   "metadata": {},
   "outputs": [],
   "source": [
    "### write wrapper code to get sample values extracted from dataframe"
   ]
  },
  {
   "cell_type": "code",
   "execution_count": null,
   "id": "6d5aae7f-d60f-4e87-89f8-35b0d9a58f94",
   "metadata": {},
   "outputs": [],
   "source": []
  },
  {
   "cell_type": "code",
   "execution_count": 17,
   "id": "96e6f683-9b04-4821-9ba3-80ded25101f6",
   "metadata": {},
   "outputs": [],
   "source": [
    "stock_location = stock_1\n",
    "volume = 200\n",
    "dispense_offset = (2,2)\n",
    "dispense_rate = 20\n",
    "\n",
    "sample_1 = {'stock':stock_1, 'volume':volume, 'dispense_offset':dispense_offset, 'dispense_rate':dispense_rate}"
   ]
  },
  {
   "cell_type": "code",
   "execution_count": 18,
   "id": "ec6ee9f1-b0f7-4f6e-b1dc-ba0e6402721d",
   "metadata": {},
   "outputs": [],
   "source": [
    "samples = [sample_1]\n",
    "\n",
    "for i, sample in enumerate(samples):\n",
    "    sample['location'] = sample_wellplate[i]\n",
    "    \n",
    "    "
   ]
  },
  {
   "cell_type": "markdown",
   "id": "10310e8a-00a7-403b-b2a9-4e6013503c4f",
   "metadata": {},
   "source": [
    "## Run sample preparation experiment"
   ]
  },
  {
   "cell_type": "code",
   "execution_count": 19,
   "id": "efdc189d-63d5-44c8-b6fd-610a95942b00",
   "metadata": {},
   "outputs": [
    {
     "data": {
      "text/plain": [
       "[{'stock': Location(point=(174.5, 171.0, 12.5), labware=Well A1 form 20mLscintillation 12 Well Plate 18000 µL on slot 3),\n",
       "  'volume': 200,\n",
       "  'dispense_offset': (2, 2),\n",
       "  'dispense_rate': 20,\n",
       "  'location': Well A1 form Fisherbrand 96 Well Plate 360 ÂµL on slot 2}]"
      ]
     },
     "execution_count": 19,
     "metadata": {},
     "output_type": "execute_result"
    }
   ],
   "source": [
    "samples"
   ]
  },
  {
   "cell_type": "code",
   "execution_count": 20,
   "id": "05cae553-704e-4959-b089-80c1c72bd4a5",
   "metadata": {},
   "outputs": [],
   "source": [
    "loc = samples[0]['location']"
   ]
  },
  {
   "cell_type": "code",
   "execution_count": 21,
   "id": "3b28a31e-ce07-47b5-beb3-ee46bbae4811",
   "metadata": {},
   "outputs": [
    {
     "data": {
      "text/plain": [
       "28.68"
      ]
     },
     "execution_count": 21,
     "metadata": {},
     "output_type": "execute_result"
    }
   ],
   "source": [
    "loc.x"
   ]
  },
  {
   "cell_type": "code",
   "execution_count": null,
   "id": "b1fd434b-645a-4c27-8410-1cc8897c6621",
   "metadata": {},
   "outputs": [],
   "source": []
  },
  {
   "cell_type": "code",
   "execution_count": 22,
   "id": "df317cc4-598e-42e7-99dc-1fddc4e3f086",
   "metadata": {},
   "outputs": [
    {
     "ename": "ValueError",
     "evalue": "Location should be of type Well or Tuple",
     "output_type": "error",
     "traceback": [
      "\u001b[0;31m---------------------------------------------------------------------------\u001b[0m",
      "\u001b[0;31mValueError\u001b[0m                                Traceback (most recent call last)",
      "Cell \u001b[0;32mIn[22], line 17\u001b[0m\n\u001b[1;32m     13\u001b[0m \u001b[38;5;66;03m#convert dispense rate into mL/minute\u001b[39;00m\n\u001b[1;32m     16\u001b[0m P300\u001b[38;5;241m.\u001b[39mpickup_tip()\n\u001b[0;32m---> 17\u001b[0m \u001b[43mP300\u001b[49m\u001b[38;5;241;43m.\u001b[39;49m\u001b[43maspirate\u001b[49m\u001b[43m(\u001b[49m\u001b[43mstock\u001b[49m\u001b[43m,\u001b[49m\u001b[43m \u001b[49m\u001b[43mvolume\u001b[49m\u001b[43m)\u001b[49m\n\u001b[1;32m     19\u001b[0m P300\u001b[38;5;241m.\u001b[39mdispense(location, volume, s \u001b[38;5;241m=\u001b[39m dispense_rate)\n\u001b[1;32m     20\u001b[0m P300\u001b[38;5;241m.\u001b[39mdrop_tip()\n",
      "File \u001b[0;32m~/Code/science-jubilee/src/science_jubilee/tools/Tool.py:49\u001b[0m, in \u001b[0;36mrequires_active_tool.<locals>.wrapper\u001b[0;34m(self, *args, **kwargs)\u001b[0m\n\u001b[1;32m     45\u001b[0m     \u001b[38;5;28;01mraise\u001b[39;00m ToolStateError(\n\u001b[1;32m     46\u001b[0m         \u001b[38;5;124mf\u001b[39m\u001b[38;5;124m\"\u001b[39m\u001b[38;5;124mError: Tool \u001b[39m\u001b[38;5;132;01m{\u001b[39;00m\u001b[38;5;28mself\u001b[39m\u001b[38;5;241m.\u001b[39mname\u001b[38;5;132;01m}\u001b[39;00m\u001b[38;5;124m is not the current `Active Tool`. Cannot perform this action\u001b[39m\u001b[38;5;124m\"\u001b[39m\n\u001b[1;32m     47\u001b[0m     )\n\u001b[1;32m     48\u001b[0m \u001b[38;5;28;01melse\u001b[39;00m:\n\u001b[0;32m---> 49\u001b[0m     \u001b[38;5;28;01mreturn\u001b[39;00m \u001b[43mfunc\u001b[49m\u001b[43m(\u001b[49m\u001b[38;5;28;43mself\u001b[39;49m\u001b[43m,\u001b[49m\u001b[43m \u001b[49m\u001b[38;5;241;43m*\u001b[39;49m\u001b[43margs\u001b[49m\u001b[43m,\u001b[49m\u001b[43m \u001b[49m\u001b[38;5;241;43m*\u001b[39;49m\u001b[38;5;241;43m*\u001b[39;49m\u001b[43mkwargs\u001b[49m\u001b[43m)\u001b[49m\n",
      "File \u001b[0;32m~/Code/science-jubilee/src/science_jubilee/tools/Pipette.py:27\u001b[0m, in \u001b[0;36mtip_check.<locals>.wrapper\u001b[0;34m(self, *args, **kwargs)\u001b[0m\n\u001b[1;32m     23\u001b[0m     \u001b[38;5;28;01mraise\u001b[39;00m ToolStateError(\n\u001b[1;32m     24\u001b[0m         \u001b[38;5;124m\"\u001b[39m\u001b[38;5;124mError: No tip is attached. Cannot complete this action\u001b[39m\u001b[38;5;124m\"\u001b[39m\n\u001b[1;32m     25\u001b[0m     )\n\u001b[1;32m     26\u001b[0m \u001b[38;5;28;01melse\u001b[39;00m:\n\u001b[0;32m---> 27\u001b[0m     \u001b[43mfunc\u001b[49m\u001b[43m(\u001b[49m\u001b[38;5;28;43mself\u001b[39;49m\u001b[43m,\u001b[49m\u001b[43m \u001b[49m\u001b[38;5;241;43m*\u001b[39;49m\u001b[43margs\u001b[49m\u001b[43m,\u001b[49m\u001b[43m \u001b[49m\u001b[38;5;241;43m*\u001b[39;49m\u001b[38;5;241;43m*\u001b[39;49m\u001b[43mkwargs\u001b[49m\u001b[43m)\u001b[49m\n",
      "File \u001b[0;32m~/Code/science-jubilee/src/science_jubilee/tools/Pipette.py:176\u001b[0m, in \u001b[0;36mPipette.aspirate\u001b[0;34m(self, vol, location, s)\u001b[0m\n\u001b[1;32m    161\u001b[0m \u001b[38;5;129m@requires_active_tool\u001b[39m\n\u001b[1;32m    162\u001b[0m \u001b[38;5;129m@tip_check\u001b[39m\n\u001b[1;32m    163\u001b[0m \u001b[38;5;28;01mdef\u001b[39;00m \u001b[38;5;21maspirate\u001b[39m(\n\u001b[1;32m    164\u001b[0m     \u001b[38;5;28mself\u001b[39m, vol: \u001b[38;5;28mfloat\u001b[39m, location: Union[Well, Tuple, Location], s: \u001b[38;5;28mint\u001b[39m \u001b[38;5;241m=\u001b[39m \u001b[38;5;241m2000\u001b[39m\n\u001b[1;32m    165\u001b[0m ):\n\u001b[1;32m    166\u001b[0m \u001b[38;5;250m    \u001b[39m\u001b[38;5;124;03m\"\"\"Moves the pipette to the specified location and aspirates the desired volume of liquid\u001b[39;00m\n\u001b[1;32m    167\u001b[0m \n\u001b[1;32m    168\u001b[0m \u001b[38;5;124;03m    :param vol: The volume of liquid to aspirate in uL\u001b[39;00m\n\u001b[0;32m   (...)\u001b[0m\n\u001b[1;32m    174\u001b[0m \u001b[38;5;124;03m    :raises ToolStateError: If the pipette does not have a tip attached\u001b[39;00m\n\u001b[1;32m    175\u001b[0m \u001b[38;5;124;03m    \"\"\"\u001b[39;00m\n\u001b[0;32m--> 176\u001b[0m     x, y, z \u001b[38;5;241m=\u001b[39m \u001b[43mLabware\u001b[49m\u001b[38;5;241;43m.\u001b[39;49m\u001b[43m_getxyz\u001b[49m\u001b[43m(\u001b[49m\u001b[43mlocation\u001b[49m\u001b[43m)\u001b[49m\n\u001b[1;32m    178\u001b[0m     \u001b[38;5;28;01mif\u001b[39;00m \u001b[38;5;28mtype\u001b[39m(location) \u001b[38;5;241m==\u001b[39m Well:\n\u001b[1;32m    179\u001b[0m         \u001b[38;5;28mself\u001b[39m\u001b[38;5;241m.\u001b[39mcurrent_well \u001b[38;5;241m=\u001b[39m location\n",
      "File \u001b[0;32m~/Code/science-jubilee/src/science_jubilee/labware/Labware.py:759\u001b[0m, in \u001b[0;36mLabware._getxyz\u001b[0;34m(location)\u001b[0m\n\u001b[1;32m    757\u001b[0m     x, y, z \u001b[38;5;241m=\u001b[39m location\u001b[38;5;241m.\u001b[39m_point\n\u001b[1;32m    758\u001b[0m \u001b[38;5;28;01melse\u001b[39;00m:\n\u001b[0;32m--> 759\u001b[0m     \u001b[38;5;28;01mraise\u001b[39;00m \u001b[38;5;167;01mValueError\u001b[39;00m(\u001b[38;5;124m\"\u001b[39m\u001b[38;5;124mLocation should be of type Well or Tuple\u001b[39m\u001b[38;5;124m\"\u001b[39m)\n\u001b[1;32m    761\u001b[0m \u001b[38;5;28;01mreturn\u001b[39;00m x, y, z\n",
      "\u001b[0;31mValueError\u001b[0m: Location should be of type Well or Tuple"
     ]
    }
   ],
   "source": [
    "\n",
    "jubilee.pickup_tool(P300)\n",
    "for sample in samples:\n",
    "    stock = sample['stock']\n",
    "    volume = sample['volume']\n",
    "    dispense_offset = sample['dispense_offset']\n",
    "    dispense_rate = sample['dispense_rate']\n",
    "    location = sample['location']\n",
    "\n",
    "    location.x = location.x + dispense_offset[0]\n",
    "    location.y = location.y + dispense_offset[1]\n",
    "    location.bottom(+20)\n",
    "\n",
    "    #convert dispense rate into mL/minute\n",
    "    \n",
    "\n",
    "    P300.pickup_tip()\n",
    "    P300.aspirate(volume, stock)\n",
    "\n",
    "    P300.dispense(volume, stock, s = dispense_rate)\n",
    "    P300.drop_tip()\n",
    "    "
   ]
  },
  {
   "cell_type": "code",
   "execution_count": null,
   "id": "1cfa244a-07c2-43ac-9436-7ca0b17e28dc",
   "metadata": {},
   "outputs": [],
   "source": []
  }
 ],
 "metadata": {
  "kernelspec": {
   "display_name": "Python 3 (ipykernel)",
   "language": "python",
   "name": "python3"
  },
  "language_info": {
   "codemirror_mode": {
    "name": "ipython",
    "version": 3
   },
   "file_extension": ".py",
   "mimetype": "text/x-python",
   "name": "python",
   "nbconvert_exporter": "python",
   "pygments_lexer": "ipython3",
   "version": "3.9.18"
  }
 },
 "nbformat": 4,
 "nbformat_minor": 5
}
